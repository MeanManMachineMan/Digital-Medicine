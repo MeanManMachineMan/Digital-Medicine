{
 "cells": [
  {
   "cell_type": "code",
   "execution_count": null,
   "metadata": {},
   "outputs": [],
   "source": [
    "import pandas as pd\n",
    "import matplotlib.pyplot as plt\n",
    "import numpy as np\n",
    "from sklearn.linear_model import LinearRegression"
   ]
  },
  {
   "cell_type": "code",
   "execution_count": null,
   "metadata": {},
   "outputs": [],
   "source": [
    "#Simple Linear Regression model for Population prediction\n",
    "#First read the dataset as a Pandas Dataframe\n",
    "indiadf = pd.read_csv(\"Data/population.csv\", encoding = \"latin-1\")\n",
    "\n",
    "#Set the index as the column['States/UT']\n",
    "indiadf = indiadf.set_index('State/UT' )\n",
    "\n",
    "#Take the transpose\n",
    "indiadfT = indiadf.T\n",
    "\n",
    "#Create a new column 'Years' which is now equal to the years we have the data of\n",
    "indiadfT['Year'] = indiadfT.index\n",
    "\n",
    "#Select all the columns from the dataframe\n",
    "col = list(indiadfT.columns)\n",
    "\n",
    "#Set the variable 'model' as an object of LinearRegression from sklearn\n",
    "model = LinearRegression()\n",
    "for i in range(0,34):    #34 since this table has 34 columns\n",
    "    \n",
    "    #Fit the model with one parameter as the 'years' column and the other as the state we want in an incremental fashion\n",
    "    model.fit(indiadfT[['Year']], indiadfT.iloc[:,i])\n",
    "    \n",
    "    #Create a new column to story the predicted values for data plotting at a later stage\n",
    "    indiadfT['Predicted_{}'.format(col[i])] = model.predict(indiadfT[['Year']])\n",
    "    \n",
    "    #Predict 2020 values(You can predict any year you wish to simply by replacing the year with a year of your choice)\n",
    "    pred_2020 = model.predict([[2020]])\n",
    "    pred_2020 = int(pred_2020)\n",
    "    \n",
    "    #Predict 2050 values\n",
    "    pred_2050 = model.predict([[2050]])\n",
    "    pred_2050 = int(pred_2050)\n",
    "    \n",
    "    #Calculate growth percentage from 2020-2050\n",
    "    growth = (pred_2050 - pred_2020)/pred_2020\n",
    "    \n",
    "    #Print the output statewise\n",
    "    print(\"The expected population of {} in 2050 is {} with a change of {:.3f}%.\".format(col[i], pred_2050,growth))\n",
    "\n",
    "#Comments remain the same for all the models below since it's the same pattern but different datasets."
   ]
  },
  {
   "cell_type": "code",
   "execution_count": null,
   "metadata": {},
   "outputs": [],
   "source": [
    "#Line plot for 3 cities' population\n",
    "plt.plot(\n",
    "    indiadfT['Year'], indiadfT.iloc[0:, 5], 'b-x',\n",
    "    indiadfT['Year'], indiadfT.iloc[0:, 7], 'r-x',\n",
    "    indiadfT['Year'], indiadfT.iloc[0:, 10], 'g-x',\n",
    "    indiadfT['Year'], indiadfT['Predicted_Chandigarh'], 'y-',\n",
    "    indiadfT['Year'], indiadfT['Predicted_Delhi'], 'y-',\n",
    "    indiadfT['Year'], indiadfT['Predicted_Haryana'], 'y-'\n",
    ")\n",
    "plt.grid(True)\n",
    "plt.xlabel('Year')\n",
    "plt.ylabel('Population Estimates in 2050')\n",
    "plt.legend([indiadfT.columns[5],indiadfT.columns[7],indiadfT.columns[10], 'Best Fit Line'])\n",
    "plt.show()"
   ]
  },
  {
   "cell_type": "code",
   "execution_count": null,
   "metadata": {},
   "outputs": [],
   "source": [
    "#Simple Linear Regression model for Sex Ratio prediction\n",
    "indiadf = pd.read_csv(\"Data/sex_ratio.csv\", encoding = \"latin-1\")\n",
    "indiadf = indiadf.set_index('State/UT' )\n",
    "indiadfT = indiadf.T\n",
    "indiadfT['Year'] = indiadfT.index\n",
    "col = list(indiadfT.columns)\n",
    "model = LinearRegression()\n",
    "for i in range(0,34):\n",
    "    model.fit(indiadfT[['Year']], indiadfT.iloc[:,i])\n",
    "    indiadfT['Predicted_{}'.format(col[i])] = model.predict(indiadfT[['Year']])\n",
    "    pred_2020 = model.predict([[2020]])\n",
    "    pred_2020 = int(pred_2020)\n",
    "    pred_2050 = model.predict([[2050]])\n",
    "    pred_2050 = int(pred_2050)\n",
    "    growth = (pred_2050 - pred_2020)/pred_2020\n",
    "    print(\"The expected sex-ratio of {} in 2050 is {} with a change of {:.3f}%.\".format(col[i], pred_2050,growth))"
   ]
  },
  {
   "cell_type": "code",
   "execution_count": null,
   "metadata": {},
   "outputs": [],
   "source": [
    "#Bar plot for sex ratios in 2001 and 2011 for Andaman-Lakshadweep\n",
    "indiadf.iloc[:17, :].plot.bar(y = {'2001', '2011'}, rot = 90)"
   ]
  },
  {
   "cell_type": "code",
   "execution_count": null,
   "metadata": {},
   "outputs": [],
   "source": [
    "#Bar plot for sex ratios in 2001 and 2011 for remaining states\n",
    "indiadf.iloc[17:, :].plot.bar(y = {'2001', '2011'}, rot = 90)"
   ]
  },
  {
   "cell_type": "code",
   "execution_count": null,
   "metadata": {},
   "outputs": [],
   "source": [
    "#Simple Linear Regression model for Life Expectancy prediction\n",
    "indiadf = pd.read_csv(\"Data/expectancy.csv\", encoding = \"latin-1\")\n",
    "indiadf = indiadf.set_index('State/UT' )\n",
    "indiadfT = indiadf.T\n",
    "indiadfT['Year'] = indiadfT.index\n",
    "col = list(indiadfT.columns)\n",
    "model = LinearRegression()\n",
    "for i in range(0,22):\n",
    "    model.fit(indiadfT[['Year']], indiadfT.iloc[:,i])\n",
    "    indiadfT['Predicted_{}'.format(col[i])] = model.predict(indiadfT[['Year']])\n",
    "    pred_2020 = model.predict([[2020]])\n",
    "    pred_2020 = int(pred_2020)\n",
    "    pred_2050 = model.predict([[2050]])\n",
    "    pred_2050 = int(pred_2050)\n",
    "    growth = (pred_2050 - pred_2020)/pred_2020\n",
    "    print(\"The life expectancy of {} in 2050 is {} with a change of {:.3f}%.\".format(col[i], pred_2050,growth))"
   ]
  },
  {
   "cell_type": "code",
   "execution_count": null,
   "metadata": {},
   "outputs": [],
   "source": [
    "plt.plot(\n",
    "    indiadfT['Year'], indiadfT.iloc[0:, 21], 'b-x',\n",
    "    indiadfT['Year'], indiadfT['Predicted_ALL INDIA'], 'y-'\n",
    ")\n",
    "plt.grid(False)\n",
    "plt.xlabel('Year')\n",
    "plt.ylabel('Life Expectancy Estimates in 2050')\n",
    "plt.legend([indiadfT.columns[21], 'Best Fit Line'])\n",
    "plt.show()"
   ]
  },
  {
   "cell_type": "code",
   "execution_count": null,
   "metadata": {},
   "outputs": [],
   "source": [
    "#Simple Linear Regression model for Population Distribution prediction\n",
    "indiadf = pd.read_csv(\"Data/pop_dist.csv\", encoding = \"latin-1\")\n",
    "indiadf = indiadf.set_index('State/UT' )\n",
    "indiadfT = indiadf.T\n",
    "indiadfT['Year'] = indiadfT.index\n",
    "col = list(indiadfT.columns)\n",
    "model = LinearRegression()\n",
    "for i in range(0,23):\n",
    "    model.fit(indiadfT[['Year']], indiadfT.iloc[:,i])\n",
    "    indiadfT['Predicted_{}'.format(col[i])] = model.predict(indiadfT[['Year']])\n",
    "    pred_2020 = model.predict([[2020.4]])\n",
    "    pred_2020 = int(pred_2020)\n",
    "    pred_2050 = model.predict([[2050.4]])\n",
    "    pred_2050 = int(pred_2050)\n",
    "    growth = (pred_2050 - pred_2020)/pred_2020\n",
    "    print(\"The estimated age distribution in the bracket 20-24 of {} in 2050 is {} with a change of {:.3f}%.\".format(col[i], pred_2050,growth))"
   ]
  },
  {
   "cell_type": "code",
   "execution_count": null,
   "metadata": {},
   "outputs": [],
   "source": [
    "#Horizontal bar plot for 2001,2006 and 2011 in the age group of 20-24 for half the states\n",
    "indiadf.iloc[1:12,:].plot.barh(y = {'2001.4', '2006.4', '2011.4'}, rot = 0)"
   ]
  },
  {
   "cell_type": "code",
   "execution_count": null,
   "metadata": {},
   "outputs": [],
   "source": [
    "#Horizontal bar plot for 2001,2006 and 2011 in the age group of 20-24 for other half of the states\n",
    "indiadf.iloc[12:,:].plot.barh(y = {'2001.4', '2006.4', '2011.4'}, rot = 0)"
   ]
  }
 ],
 "metadata": {
  "kernelspec": {
   "display_name": "Python 3",
   "language": "python",
   "name": "python3"
  },
  "language_info": {
   "codemirror_mode": {
    "name": "ipython",
    "version": 3
   },
   "file_extension": ".py",
   "mimetype": "text/x-python",
   "name": "python",
   "nbconvert_exporter": "python",
   "pygments_lexer": "ipython3",
   "version": "3.6.9"
  }
 },
 "nbformat": 4,
 "nbformat_minor": 2
}
